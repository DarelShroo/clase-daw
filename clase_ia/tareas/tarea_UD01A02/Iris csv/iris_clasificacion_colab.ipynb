{
 "cells": [
  {
   "cell_type": "markdown",
   "id": "2da797aa",
   "metadata": {},
   "source": [
    "\n",
    "# 🌸 Iris en Colab: Clasificación con *scikit-learn*\n",
    "\n",
    "**Objetivo**: completar un flujo supervisado de ML con el dataset *Iris*:\n",
    "1) carga y exploración, 2) visualización (2D y PCA 3D), 3) *train/test split*,\n",
    "4) modelos base (Regresión Logística, KNN, SVM), 5) *pipelines* con `StandardScaler` + `PCA`,\n",
    "6) *GridSearchCV* para ajustar hiperparámetros, 7) evaluación con métricas y curvas de aprendizaje.\n",
    "\n",
    "> **Entrega**: responde a las preguntas marcadas como **TAREA** en celdas de texto (Markdown) al final de cada sección.\n"
   ]
  },
  {
   "cell_type": "code",
   "execution_count": null,
   "id": "1674c478",
   "metadata": {},
   "outputs": [],
   "source": [
    "\n",
    "#@title Instalación y librerías\n",
    "import numpy as np\n",
    "import pandas as pd\n",
    "import matplotlib.pyplot as plt\n",
    "\n",
    "from sklearn import datasets\n",
    "from sklearn.decomposition import PCA\n",
    "from sklearn.model_selection import train_test_split, cross_val_score, GridSearchCV, learning_curve, StratifiedKFold\n",
    "from sklearn.preprocessing import StandardScaler\n",
    "from sklearn.pipeline import Pipeline\n",
    "from sklearn.linear_model import LogisticRegression\n",
    "from sklearn.neighbors import KNeighborsClassifier\n",
    "from sklearn.svm import SVC\n",
    "from sklearn.metrics import accuracy_score, confusion_matrix, classification_report, ConfusionMatrixDisplay\n",
    "\n",
    "plt.rcParams['figure.figsize'] = (7,5)\n",
    "print('Librerías cargadas.')\n"
   ]
  },
  {
   "cell_type": "markdown",
   "id": "098e1a4c",
   "metadata": {},
   "source": [
    "## 1) Carga del dataset y descripción"
   ]
  },
  {
   "cell_type": "code",
   "execution_count": null,
   "id": "bcd117c0",
   "metadata": {},
   "outputs": [],
   "source": [
    "\n",
    "iris = datasets.load_iris()\n",
    "X, y = iris.data, iris.target\n",
    "feature_names = iris.feature_names\n",
    "target_names = iris.target_names\n",
    "\n",
    "print(f\"Shape X: {X.shape} (150 muestras x 4 características)\")\n",
    "print(\"Características:\", feature_names)\n",
    "print(\"Clases:\", target_names)\n",
    "\n",
    "import pandas as pd\n",
    "df = pd.DataFrame(X, columns=feature_names)\n",
    "df['target'] = y\n",
    "df.head()\n"
   ]
  },
  {
   "cell_type": "markdown",
   "id": "58668cda",
   "metadata": {},
   "source": [
    "## 2) Visualización 2D (primeras 2 variables)"
   ]
  },
  {
   "cell_type": "code",
   "execution_count": null,
   "id": "d695dd32",
   "metadata": {},
   "outputs": [],
   "source": [
    "not\n",
    "_, ax = plt.subplots()\n",
    "scatter = ax.scatter(X[:, 0], X[:, 1], c=y)\n",
    "ax.set(xlabel=feature_names[0], ylabel=feature_names[1])\n",
    "_ = ax.legend(scatter.legend_elements()[0], target_names, loc=\"lower right\", title=\"Classes\")\n",
    "plt.title(\"Iris (2 primeras características)\")\n",
    "plt.show()\n"
   ]
  },
  {
   "cell_type": "markdown",
   "id": "ff105851",
   "metadata": {},
   "source": [
    "## 3) PCA 3D (primeras 3 componentes)"
   ]
  },
  {
   "cell_type": "code",
   "execution_count": null,
   "id": "7d6dc1b9",
   "metadata": {},
   "outputs": [],
   "source": [
    "\n",
    "# unused but required import for doing 3d projections with matplotlib < 3.2\n",
    "import mpl_toolkits.mplot3d  # noqa: F401\n",
    "\n",
    "fig = plt.figure(1, figsize=(8, 6))\n",
    "ax = fig.add_subplot(111, projection=\"3d\", elev=-150, azim=110)\n",
    "\n",
    "X_reduced = PCA(n_components=3).fit_transform(X)\n",
    "ax.scatter(X_reduced[:, 0], X_reduced[:, 1], X_reduced[:, 2], c=y, s=40)\n",
    "ax.set_title(\"First three PCA dimensions\")\n",
    "ax.set_xlabel(\"1st Eigenvector\"); ax.xaxis.set_ticklabels([])\n",
    "ax.set_ylabel(\"2nd Eigenvector\"); ax.yaxis.set_ticklabels([])\n",
    "ax.set_zlabel(\"3rd Eigenvector\"); ax.zaxis.set_ticklabels([])\n",
    "plt.show()\n"
   ]
  },
  {
   "cell_type": "markdown",
   "id": "ab5483c3",
   "metadata": {},
   "source": [
    "## 4) Train/Test split"
   ]
  },
  {
   "cell_type": "code",
   "execution_count": null,
   "id": "ad8d07d8",
   "metadata": {},
   "outputs": [],
   "source": [
    "\n",
    "X_train, X_test, y_train, y_test = train_test_split(\n",
    "    X, y, test_size=0.3, random_state=42, stratify=y\n",
    ")\n",
    "X_train.shape, X_test.shape\n"
   ]
  },
  {
   "cell_type": "markdown",
   "id": "d4ab6e90",
   "metadata": {},
   "source": [
    "## 5) Modelos base: Regresión Logística, KNN, SVM (lineal)"
   ]
  },
  {
   "cell_type": "code",
   "execution_count": null,
   "id": "0f9afe21",
   "metadata": {},
   "outputs": [],
   "source": [
    "\n",
    "models = {\n",
    "    \"LogReg\": LogisticRegression(max_iter=1000),\n",
    "    \"KNN\": KNeighborsClassifier(n_neighbors=5),\n",
    "    \"SVM-linear\": SVC(kernel=\"linear\")\n",
    "}\n",
    "\n",
    "results = {}\n",
    "for name, clf in models.items():\n",
    "    clf.fit(X_train, y_train)\n",
    "    y_pred = clf.predict(X_test)\n",
    "    acc = accuracy_score(y_test, y_pred)\n",
    "    results[name] = acc\n",
    "    print(f\"{name:10s} Accuracy: {acc:.3f}\")\n",
    "\n",
    "import pandas as pd\n",
    "pd.Series(results, name=\"Accuracy\").sort_values(ascending=False)\n"
   ]
  },
  {
   "cell_type": "code",
   "execution_count": null,
   "id": "e53b7f6f",
   "metadata": {},
   "outputs": [],
   "source": [
    "\n",
    "best_name = max(results, key=results.get)\n",
    "best_model = models[best_name]\n",
    "y_pred = best_model.predict(X_test)\n",
    "\n",
    "print(f\"Mejor modelo: {best_name}\")\n",
    "print(classification_report(y_test, y_pred, target_names=target_names))\n",
    "\n",
    "cm = confusion_matrix(y_test, y_pred, labels=[0,1,2])\n",
    "disp = ConfusionMatrixDisplay(confusion_matrix=cm, display_labels=target_names)\n",
    "disp.plot(values_format=\"d\")\n",
    "plt.title(f\"Matriz de confusión - {best_name}\")\n",
    "plt.show()\n"
   ]
  },
  {
   "cell_type": "markdown",
   "id": "8df1dc25",
   "metadata": {},
   "source": [
    "## 6) Pipeline con `StandardScaler` + `PCA` + `SVC`"
   ]
  },
  {
   "cell_type": "code",
   "execution_count": null,
   "id": "9086aaaf",
   "metadata": {},
   "outputs": [],
   "source": [
    "\n",
    "pipe_svc = Pipeline([\n",
    "    (\"scaler\", StandardScaler()),\n",
    "    (\"pca\", PCA(n_components=2)),\n",
    "    (\"svc\", SVC())\n",
    "])\n",
    "\n",
    "param_grid = {\n",
    "    \"pca__n_components\": [2, 3, 4],\n",
    "    \"svc__kernel\": [\"linear\", \"rbf\"],\n",
    "    \"svc__C\": [0.1, 1, 10, 100],\n",
    "    \"svc__gamma\": [\"scale\", 0.01, 0.1, 1]\n",
    "}\n",
    "\n",
    "from sklearn.model_selection import StratifiedKFold\n",
    "cv = StratifiedKFold(n_splits=5, shuffle=True, random_state=42)\n",
    "grid = GridSearchCV(pipe_svc, param_grid, cv=cv, scoring=\"accuracy\", n_jobs=-1)\n",
    "grid.fit(X_train, y_train)\n",
    "\n",
    "print(\"Mejor combinación:\", grid.best_params_)\n",
    "print(\"Accuracy CV (mejor):\", grid.best_score_)\n",
    "print(\"Accuracy en test:\", accuracy_score(y_test, grid.predict(X_test)))\n"
   ]
  },
  {
   "cell_type": "markdown",
   "id": "563219ed",
   "metadata": {},
   "source": [
    "## 7) Búsqueda simple para KNN"
   ]
  },
  {
   "cell_type": "code",
   "execution_count": null,
   "id": "1f6d1d78",
   "metadata": {},
   "outputs": [],
   "source": [
    "\n",
    "accs = []\n",
    "ks = list(range(1, 21))\n",
    "for k in ks:\n",
    "    knn = KNeighborsClassifier(n_neighbors=k)\n",
    "    scores = cross_val_score(knn, X_train, y_train, cv=cv, scoring=\"accuracy\")\n",
    "    accs.append(scores.mean())\n",
    "\n",
    "plt.plot(ks, accs, marker=\"o\")\n",
    "plt.xlabel(\"n_neighbors (k)\"); plt.ylabel(\"Accuracy CV media\")\n",
    "plt.title(\"Selección de k para KNN (CV)\")\n",
    "plt.show()\n",
    "\n",
    "k_best = ks[int(np.argmax(accs))]\n",
    "print(\"Mejor k:\", k_best, \"con Accuracy CV:\", max(accs))\n"
   ]
  },
  {
   "cell_type": "markdown",
   "id": "7ee5b0c8",
   "metadata": {},
   "source": [
    "## 8) Curva de aprendizaje (modelo ganador del GridSearch SVC)"
   ]
  },
  {
   "cell_type": "code",
   "execution_count": null,
   "id": "35d7153c",
   "metadata": {},
   "outputs": [],
   "source": [
    "\n",
    "train_sizes, train_scores, test_scores = learning_curve(\n",
    "    grid.best_estimator_, X, y, cv=cv, scoring=\"accuracy\",\n",
    "    train_sizes=np.linspace(0.1, 1.0, 10), n_jobs=-1\n",
    ")\n",
    "\n",
    "train_mean = train_scores.mean(axis=1)\n",
    "test_mean = test_scores.mean(axis=1)\n",
    "\n",
    "plt.plot(train_sizes, train_mean, marker=\"o\", label=\"Entrenamiento\")\n",
    "plt.plot(train_sizes, test_mean, marker=\"s\", label=\"Validación CV\")\n",
    "plt.xlabel(\"Tamaño de entrenamiento\"); plt.ylabel(\"Accuracy\")\n",
    "plt.title(\"Curva de aprendizaje - Mejor SVC (pipeline)\")\n",
    "plt.legend()\n",
    "plt.show()\n"
   ]
  },
  {
   "cell_type": "markdown",
   "id": "1a596019",
   "metadata": {},
   "source": [
    "\n",
    "---\n",
    "\n",
    "## 🔎 **TAREA — Preguntas para responder**\n",
    "1. Observando la visualización 2D, ¿qué clase es más separable solo con sépalos? ¿Por qué?\n",
    "2. En PCA 3D, ¿se distinguen mejor *Versicolor* y *Virginica* respecto a 2D? Comenta.\n",
    "3. ¿Qué modelo base obtuvo mayor `accuracy`? ¿En qué clases suele confundirse (ver matriz de confusión)?\n",
    "4. ¿Qué combinación de hiperparámetros del pipeline SVC fue la mejor? Interpreta el rol de `C`, `gamma` y `n_components`.\n",
    "5. Según la curva de aprendizaje, ¿ves alto *bias* o alto *variance*? ¿Qué harías para mejorar?\n",
    "\n",
    "> Escribe tus respuestas aquí debajo en Markdown.\n"
   ]
  }
 ],
 "metadata": {
  "language_info": {
   "name": "python"
  }
 },
 "nbformat": 4,
 "nbformat_minor": 5
}
